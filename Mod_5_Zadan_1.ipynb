{
 "cells": [
  {
   "cell_type": "code",
   "execution_count": 5,
   "id": "6c001e32-b7e9-4c09-8919-fe42f5b89fa1",
   "metadata": {},
   "outputs": [],
   "source": [
    "import torch\n",
    "import torch.nn as nn\n",
    "import torch.optim as optim\n",
    "import random\n",
    "\n",
    "# 1. Шифр Цезаря\n",
    "def caesar_cipher(text, shift):\n",
    "    result = ''\n",
    "    for char in text:\n",
    "        if 'a' <= char <= 'z':\n",
    "            start = ord('a')\n",
    "            shifted_char = chr((ord(char) - start + shift) % 26 + start)   # шифрование\n",
    "        elif 'A' <= char <= 'Z':\n",
    "            start = ord('A')\n",
    "            shifted_char = chr((ord(char) - start + shift) % 26 + start)\n",
    "        else:\n",
    "            shifted_char = char  # Оставляем не-буквенные символы без изменений\n",
    "        result += shifted_char\n",
    "    return result\n",
    "# start = ord('a'):  Если символ является строчной буквой, эта строка получает ASCII-код буквы 'a' и сохраняет его   \n",
    "#   % 26:  dычисляет остаток от деления на 26 (количество букв в английском алфавите)\n",
    "#  ord(char) получает ASCII-код текущего символа\n",
    "# ord(char) - start  смещение текущего символа относительно начала алфавита \n",
    "#   + start:  Прибавляет ASCII-код 'a' обратно, чтобы получить ASCII-код зашифрованного символа\n",
    "# chr(...): Преобразует ASCII-код обратно в символ\n",
    "# shifted_char = ...: Сохраняет зашифрованный символ в переменной shifted_char"
   ]
  },
  {
   "cell_type": "code",
   "execution_count": 6,
   "id": "077adefe-a70e-4097-bed7-b6901f61f858",
   "metadata": {},
   "outputs": [
    {
     "name": "stdout",
     "output_type": "stream",
     "text": [
      "Original:  Hello first task , Encrypted:  Khoor iluvw wdvn \n"
     ]
    }
   ],
   "source": [
    "original_text = \" Hello first task \"\n",
    "shift = 3\n",
    "encrypted_text = caesar_cipher(original_text,shift) \n",
    "print(f\"Original: {original_text}, Encrypted: {encrypted_text}\")\n"
   ]
  },
  {
   "cell_type": "code",
   "execution_count": 7,
   "id": "6193aeac-1ef3-4331-831a-6f012803e30e",
   "metadata": {},
   "outputs": [],
   "source": [
    "# 2. Подготовка данных\n",
    "alphabet = \"abcdefghijklmnopqrstuvwxyzABCDEFGHIJKLMNOPQRSTUVWXYZ \" # Пробел тоже\n",
    "char_to_index = {char: index for index, char in enumerate(alphabet)}\n",
    "index_to_char = {index: char for index, char in enumerate(alphabet)} # Создает обратный словарь \n",
    "vocab_size = len(alphabet)\n",
    "max_len = 20 # Максимальная длина фразы\n",
    "\n",
    "def create_dataset(num_samples, shift):   # набор данных для обучения (kоличество пар,bеличина сдвига)\n",
    "    pairs = []\n",
    "    for _ in range(num_samples):\n",
    "        phrase = ''.join(random.choice(alphabet) for _ in range(random.randint(5, max_len))) # Генерирует случайную фразу:случайная длина\n",
    "        encrypted_phrase = caesar_cipher(phrase, shift)  # Шифрует сгенерированную фразу \n",
    "        pairs.append((encrypted_phrase, phrase))\n",
    "    return pairs\n",
    "\n",
    "shift_amount = 3 # Сдвиг Цезаря\n",
    "training_data = create_dataset(1000, shift_amount) # 1000 примеров\n",
    "\n",
    "def phrase_to_tensor(phrase):  # преобразует фразу в тензор PyTorch, используя one-hot encoding\n",
    "    tensor = torch.zeros(len(phrase), vocab_size)  # Создает тензор PyTorch, заполненный нулями \n",
    "    for i, char in enumerate(phrase):\n",
    "        index = char_to_index[char]\n",
    "        tensor[i, index] = 1 # one-hot encoding\n",
    "    return tensor\n",
    "# char_to_index Создает словарь, который отображает каждый символ в алфавите на его индекс   \n",
    "# enumerate(alphabet) возвращает пары (индекс, символ)\n"
   ]
  },
  {
   "cell_type": "code",
   "execution_count": 8,
   "id": "1703e3fd-f591-42f9-9f86-8a98ba66a50e",
   "metadata": {},
   "outputs": [
    {
     "name": "stdout",
     "output_type": "stream",
     "text": [
      "[('BcVAIHCy', 'YzSXFEZv'), ('tsTrWKwEGkPu', 'qpQoTHtBDhMr'), ('kuPuOZQOBYrB', 'hrMrLWNLYVoY'), ('PrxvzLlEJqwS', 'MouswIiBGntP'), ('CMykvOXcEKZ', 'ZJvhsLUzBHW'), (' KSpXe', ' HPmUb'), ('kZwxxvmoBsRJDQrMB', 'hWtuusjlYpOGANoJY'), ('cHfKuNfTWqswGljbf', 'zEcHrKcQTnptDigyc'), ('BunjGOQkpyEfUCs', 'YrkgDLNhmvBcRZp'), ('VhJbQivfLPOvNxa', 'SeGyNfscIMLsKux'), ('xEjAXMBn', 'uBgXUJYk'), ('hKGfgtqCPdilo', 'eHDcdqnZMafil'), ('ekgQKfxi Mvoj', 'bhdNHcuf Jslg'), ('DyeFSb', 'AvbCPy'), ('ehRRXZ', 'beOOUW'), ('WhYyiHZYRl', 'TeVvfEWVOi'), ('iu pAkhQ nuztmqqh', 'fr mXheN krwqjnne'), ('sUbwDOq', 'pRytALn'), ('flOsAVENCILB', 'ciLpXSBKZFIY'), ('iftQAsbjdAvicfXO', 'fcqNXpygaXsfzcUL'), ('VnFoxdIxyB', 'SkCluaFuvY'), ('obmvAOvN', 'lyjsXLsK'), ('XrJQvFZ khTmmeoCqsUv', 'UoGNsCW heQjjblZnpRs'), ('oIIdHMIgkOiroz', 'lFFaEJFdhLfolw'), ('LnOXrmMXXXYzESxi', 'IkLUojJUUUVwBPuf'), ('XuCMIhjR', 'UrZJFegO'), ('ScgaQSBxdj ajQjTCyl', 'PzdxNPYuag xgNgQZvi'), ('ZErbGsgd', 'WBoyDpda'), ('EHMmuP', 'BEJjrM'), ('wvKMXCfOtpA', 'tsHJUZcLqmX'), ('ajjbpiBKLlKnncxQVJe', 'xggymfYHIiHkkzuNSGb'), ('kUtFoMaskrOTNv', 'hRqClJxphoLQKs'), ('BAjBSLxHS hcH', 'YXgYPIuEP ezE'), ('qYxWGSTkKuPwwj', 'nVuTDPQhHrMttg'), ('ximUyGdSQs ow', 'ufjRvDaPNp lt'), ('uJGlD', 'rGDiA'), ('oCStBv rSUkfIFe', 'lZPqYs oPRhcFCb'), ('ZztFLpJmlURcslnSl', 'WwqCImGjiROzpikPi'), ('mrgNT', 'jodKQ'), ('AwewfSDwLJmcG PQBTF', 'XtbtcPAtIGjzD MNYQC'), ('zidqYwVgKTJtEZHs', 'wfanVtSdHQGqBWEp'), ('isVyY lhkLPFXZYuAGP', 'fpSvV iehIMCUWVrXDM'), ('tIrrMCEzhtXQiKf', 'qFooJZBweqUNfHc'), (' lWIi', ' iTFf'), ('H c pyZtRvmWifFD', 'E z mvWqOsjTfcCA'), ('AiRkdgvPhsETiI', 'XfOhadsMepBQfF'), ('GIFEIa', 'DFCBFx'), ('EpTfRuuboX', 'BmQcOrrylU'), ('xhVBiWS', 'ueSYfTP'), ('xquM WRK', 'unrJ TOH'), ('wnwQLKBXsfMdn', 'tktNIHYUpcJak'), ('IybLTHBw', 'FvyIQEYt'), ('ZcEJZokCImTcAYY', 'WzBGWlhZFjQzXVV'), ('zhExX', 'weBuU'), ('PoAuXwBg', 'MlXrUtYd'), ('bvGFE', 'ysDCB'), ('X rAws', 'U oXtp'), ('OKXonFndpGcqqwMzu', 'LHUlkCkamDznntJwr'), ('GTMuUwmTPlCnB', 'DQJrRtjQMiZkY'), ('KhsMaeaMulVX', 'HepJxbxJriSU'), ('lCGoGZukGoDfMLUcr', 'iZDlDWrhDlAcJIRzo'), ('Fq kLktqGABxCHGH', 'Cn hIhqnDXYuZEDE'), ('jsZaKVYEITQezihJ', 'gpWxHSVBFQNbwfeG'), ('qIbPmI urUMgWFBtE', 'nFyMjF roRJdTCYqB'), ('hfyTbakGPsiHe', 'ecvQyxhDMpfEb'), ('TJKeN', 'QGHbK'), ('ScdHnBQerPDCBHQjWbUT', 'PzaEkYNboMAZYENgTyRQ'), ('nrGOSnWqa', 'koDLPkTnx'), ('vVwQNVHbXGJleKzoLWq', 'sStNKSEyUDGibHwlITn'), ('YIacxdiJi', 'VFxzuafGf'), ('AvxgsJSn', 'XsudpGPk'), ('RecPSNqeTNaygux', 'ObzMPKnbQKxvdru'), ('UHBfG', 'REYcD'), ('fucfgK', 'crzcdH'), ('NDXucbjNA', 'KAUrzygKX'), ('OmTObYqIZcUOsXyNHl', 'LjQLyVnFWzRLpUvKEi'), ('QdtNfrHvxNwPC', 'NaqKcoEsuKtMZ'), ('RIhQDgftcjlhtkUv', 'OFeNAdcqzgieqhRs'), ('VHVYXydVPJWHJgMuRk', 'SESVUvaSMGTEGdJrOh'), ('AeLsHjCFQurMfwI', 'XbIpEgZCNroJctF'), ('MoVyshCFtZfTurZOAM', 'JlSvpeZCqWcQroWLXJ'), ('HBTKtEDI', 'EYQHqBAF'), ('liZlLMIHLhh', 'ifWiIJFEIee'), ('fljBu z', 'cigYr w'), ('rzKUFjFkfllJhZ', 'owHRCgChciiGeW'), ('TWdfhUWftyzRNMj', 'QTaceRTcqvwOKJg'), ('fWVcYWGhYNM', 'cTSzVTDeVKJ'), ('KWPSg ', 'HTMPd '), ('mHnsoPqXd', 'jEkplMnUa'), ('hGnpqA', 'eDkmnX'), ('fpxszPUSMqlQdApEXfvK', 'cmupwMRPJniNaXmBUcsH'), ('ArRMicqkSgBeT', 'XoOJfznhPdYbQ'), ('wLMeTBai', 'tIJbQYxf'), ('yUewhdtd', 'vRbteaqa'), ('nISCFSmLgQjOltqpeoa', 'kFPZCPjIdNgLiqnmblx'), ('jJDvqXkLGI', 'gGAsnUhIDF'), ('WvUXEVIREfuPkXqEc', 'TsRUBSFOBcrMhUnBz'), ('FXBZSKDjCAPX', 'CUYWPHAgZXMU'), ('AHwsRsMmlECn', 'XEtpOpJjiBZk'), ('lvsxVNO', 'ispuSKL'), ('YrUPexGFICCHYfzbOI', 'VoRMbuDCFZZEVcwyLF'), ('OtglwfHmaMlKGfa', 'LqditcEjxJiHDcx'), ('YMzOP', 'VJwLM'), ('mybsOX', 'jvypLU'), ('lOr m', 'iLo j'), ('tibEcgDHwQIlYcC', 'qfyBzdAEtNFiVzZ'), ('VWMUueCwYD', 'STJRrbZtVA'), ('kWnp lcfGThkYGyy', 'hTkm izcDQehVDvv'), ('guqsoDpeNXpheD Nq Oy', 'drnplAmbKUmebA Kn Lv'), ('vmDJYrFBcHtrCMOnDWt', 'sjAGVoCYzEqoZJLkATq'), ('vPpPBAxSjWpERGwRp', 'sMmMYXuPgTmBODtOm'), ('MAutjb', 'JXrqgy'), ('Y  FWKHwTfBzi', 'V  CTHEtQcYwf'), ('QlO Sez', 'NiL Pbw'), ('BCxiyZYbCKLWxUOyB', 'YZufvWVyZHITuRLvY'), ('TYlACnCdfL', 'QViXZkZacI'), ('vqKtfd', 'snHqca'), ('ATzphIuJvjQBtoEoeLFz', 'XQwmeFrGsgNYqlBlbICw'), ('uhPXHbkLl', 'reMUEyhIi'), ('xZFAg', 'uWCXd'), ('GZITLfw', 'DWFQIct'), ('qHpbBplBGxMVk', 'nEmyYmiYDuJSh'), ('UXpeDSAAXitrLit', 'RUmbAPXXUfqoIfq'), ('prudAbaf', 'moraXyxc'), ('OynHkFVzCSUdFOx', 'LvkEhCSwZPRaCLu'), ('VrOFIipCGgUV', 'SoLCFfmZDdRS'), ('ZhPlnZVu', 'WeMikWSr'), (' VzOMtadbnokcdI', ' SwLJqxayklhzaF'), ('iITEJcUXVTPqfNbpR', 'fFQBGzRUSQMncKymO'), ('MUYZFJPA', 'JRVWCGMX'), ('jtdARqm', 'gqaXOnj'), ('UwlqN wYVQQhGV', 'RtinK tVSNNeDS'), ('wkGtnMq', 'thDqkJn'), ('NxqgxKVmWKFxEe', 'KunduHSjTHCuBb'), ('IxGdsUyeesNyXPzSdFLM', 'FuDapRvbbpKvUMwPaCIJ'), ('dDJdBLKLrpcZKCejQjO', 'aAGaYIHIomzWHZbgNgL'), ('YeDbG', 'VbAyD'), ('jxrJXcttfyqUKhHdpqF', 'guoGUzqqcvnRHeEamnC'), ('BSOB ', 'YPLY '), ('YznXyUUIECovaUMbNV ', 'VwkUvRRFBZlsxRJyKS '), ('nPfIrPPLGoa', 'kMcFoMMIDlx'), ('tzoZHiMvngSiPc', 'qwlWEfJskdPfMz'), ('fHIoFO xitkWEyWfhCOy', 'cEFlCL ufqhTBvTceZLv'), ('budFbJ', 'yraCyG'), ('vmlybMZnfTs', 'sjivyJWkcQp'), ('jHcqjNmYP', 'gEzngKjVM'), ('LGDzHcBURoTUftE', 'IDAwEzYROlQRcqB'), ('dcQeqkHiemAXoQ', 'azNbnhEfbjXUlN'), ('fmGTnhVZN', 'cjDQkeSWK'), (' xzbKwVioZfZBJaJ', ' uwyHtSflWcWYGxG'), ('TQXzVEJymwmokYPqMb', 'QNUwSBGvjtjlhVMnJy'), ('uDJpzNIFdARm', 'rAGmwKFCaXOj'), ('DwiPzxW', 'AtfMwuT'), ('ebaSVd wGyDvW', 'byxPSa tDvAsT'), ('IgkrCDUBYcwNUclskY', 'FdhoZARYVztKRziphV'), (' fJDFyeWr', ' cGACvbTo'), ('iLuoQbaE', 'fIrlNyxB'), ('UpMRIZt BsqXDNe Cd', 'RmJOFWq YpnUAKb Za'), ('gOHLW LiOVJzXKvOLG', 'dLEIT IfLSGwUHsLID'), ('ZWkMUrWqEF', 'WThJRoTnBC'), ('nlJfdoJuaHN', 'kiGcalGrxEK'), ('EgHLqiNuNpYpP', 'BdEInfKrKmVmM'), ('iLFdXuUDACbkrIilbfX', 'fICaUrRAXZyhoFfiycU'), ('XOywyAbI', 'ULvtvXyF'), ('lGNJiSZgIPc', 'iDKGfPWdFMz'), ('DmNHlEcKEUwAFxAsYt', 'AjKEiBzHBRtXCuXpVq'), ('scquordwhUK', 'pznrloateRH'), ('cKO Go', 'zHL Dl'), ('sflEKMdP', 'pciBHJaM'), ('PmJIo', 'MjGFl'), ('aLWtBiWfE', 'xITqYfTcB'), ('FoYiCQPpxpXnnfTQEOc', 'ClVfZNMmumUkkcQNBLz'), ('BVRMGMBCemMUpLxiZopD', 'YSOJDJYZbjJRmIufWlmA'), ('QKKtW', 'NHHqT'), ('JlRVBBdaj', 'GiOSYYaxg'), ('WcvYNqPx', 'TzsVKnMu'), ('nAMEmdRKS', 'kXJBjaOHP'), ('JOTCoLuK', 'GLQZlIrH'), ('cvuutpPrwDBDoBh', 'zsrrqmMotAYAlYe'), ('wbWiFMhr', 'tyTfCJeo'), ('HqAmEKS vVbQFGwZO', 'EnXjBHP sSyNCDtWL'), ('GOwfLBRhsps', 'DLtcIYOepmp'), ('oWEJGfpxU  yLVWlHp', 'lTBGDcmuR  vISTiEm'), ('tZRluEXRlSKgfmvg', 'qWOirBUOiPHdcjsd'), ('ZVCruxywDzl', 'WSZoruvtAwi'), ('KHhofMf', 'HEelcJc'), ('orGeWSzhhxyCjavMs', 'loDbTPweeuvZgxsJp'), ('QhAQGhZtXywtjDEw', 'NeXNDeWqUvtqgABt'), ('Oks DlsCBDTJaFR', 'Lhp AipZYAQGxCO'), ('DsfhbmpmjJpHpTiku', 'ApceyjmjgGmEmQfhr'), ('VROdmQCXmu', 'SOLajNZUjr'), ('nwmgGxqtoigOQwJ', 'ktjdDunqlfdLNtG'), ('wGN zVUvA', 'tDK wSRsX'), ('wrZBdaDq', 'toWYaxAn'), ('korWlWOxEa', 'hloTiTLuBx'), ('hlcUDghzxRFILJV', 'eizRAdewuOCFIGS'), ('QBpucyvKwjfIV', 'NYmrzvsHtgcFS'), ('HnvCkyHfxowVjThj', 'EksZhvEcultSgQeg'), ('AkmKpXLWDBolESesseqU', 'XhjHmUITAYliBPbppbnR'), ('SCXUzf', 'PZURwc'), ('MEvKPjfJ', 'JBsHMgcG'), ('GrzJpICz', 'DowGmFZw'), ('bmFgT', 'yjCdQ'), ('NZXMJawqCCtNcaAAS', 'KWUJGxtnZZqKzxXXP'), ('ugQumUhSscbsRqDBVF', 'rdNrjRePpzypOnAYSC'), ('gXgTMljUbZQqJOdewrQM', 'dUdQJigRyWNnGLabtoNJ'), ('IRf AFY', 'FOc XCV'), ('BihTzRiZUPlYZXKUtZF', 'YfeQwOfWRMiVWUHRqWC'), ('EWkdXHNMzaYP', 'BThaUEKJwxVM'), ('sKlyFgrIK xkGW', 'pHivCdoFH uhDT'), ('WolHPesXSJLDCQdHr a', 'TliEMbpUPGIAZNaEo x'), ('XPjnC', 'UMgkZ'), ('YFoyjRVKqtVQYTjnP', 'VClvgOSHnqSNVQgkM'), ('RfArEEQLGl', 'OcXoBBNIDi'), ('EDDgYLqq', 'BAAdVInn'), ('hqQlReJwrp', 'enNiObGtom'), ('NYwdKYGMdqqg', 'KVtaHVDJannd'), ('EiTKweLQXmFAVPHRytm', 'BfQHtbINUjCXSMEOvqj'), ('rXRecasBSECNBlYFI', 'oUObzxpYPBZKYiVCF'), ('LhCusUsOtBgr', 'IeZrpRpLqYdo'), ('xjzKhWtn', 'ugwHeTqk'), ('TzChKf', 'QwZeHc'), ('DezxDpbikVkaLTFUTKBo', 'AbwuAmyfhShxIQCRQHYl'), ('oKSxryxYgDAQ rxg', 'lHPuovuVdAXN oud'), (' vZbwtLhlUOAnZsW', ' sWytqIeiRLXkWpT'), ('PwthlM', 'MtqeiJ'), ('NQoDhOTwUSxVMMx', 'KNlAeLQtRPuSJJu'), ('E bIOXr', 'B yFLUo'), ('kT oglwqce', 'hQ lditnzb'), ('S Rd nPGR', 'P Oa kMDO'), ('gUMsItMnDfbljisH', 'dRJpFqJkAcyigfpE'), ('CgUNmyiMZk RoMpwz', 'ZdRKjvfJWh OlJmtw'), ('pSHEeChZZqWsgHJJGf', 'mPEBbZeWWnTpdEGGDc'), ('uutFuVLPysM', 'rrqCrSIMvpJ'), ('KRjzRskRVTSY', 'HOgwOphOSQPV'), ('geLDBhNXtuDGCoCPsFt', 'dbIAYeKUqrADZlZMpCq'), ('XjhYPaPrcgUO  ', 'UgeVMxMozdRL  '), ('NCdJdGCJXXfUtzHqbgDU', 'KZaGaDZGUUcRqwEnydAR'), ('BxLWEOZFSkHgcr', 'YuITBLWCPhEdzo'), ('IzkbvDSq', 'FwhysAPn'), ('yZDVuwXQMnOpEPsTYde', 'vWASrtUNJkLmBMpQVab'), ('HBuYKJxEgV', 'EYrVHGuBdS'), ('rJtKWKCNOih', 'oGqHTHZKLfe'), ('YkiLhXaRAlsFQ', 'VhfIeUxOXipCN'), ('IbdzjQSmOIJiYkVti', 'FyawgNPjLFGfVhSqf'), ('YiJexyyh', 'VfGbuvve'), ('jMzzkmHR', 'gJwwhjEO'), ('FZimWKewpIfobHLOzey', 'CWfjTHbtmFclyEILwbv'), ('JTqwHKySZJFgBxAjgka', 'GQntEHvPWGCdYuXgdhx'), ('uceCtJDJ', 'rzbZqGAG'), ('STqKkTSUsd', 'PQnHhQPRpa'), ('ESVghqftZeHh', 'BPSdencqWbEe'), ('KLnmnZ', 'HIkjkW'), ('KuAUa', 'HrXRx'), ('WGxxaeYuPzd', 'TDuuxbVrMwa'), ('dMJiOiLiVoycfRrBwGqy', 'aJGfLfIfSlvzcOoYtDnv'), ('qmTNuhIH', 'njQKreFE'), ('cxZhPwkva', 'zuWeMthsx'), ('uaYzsJivInkpDpTYje', 'rxVwpGfsFkhmAmQVgb'), ('pemztaRS', 'mbjwqxOP'), ('WOSibH', 'TLPfyE'), ('ehThe', 'beQeb'), ('QyWDKImwrhkXJRYW d', 'NvTAHFjtoehUGOVT a'), ('TNtLjmnZValZKgzdkAqz', 'QKqIgjkWSxiWHdwahXnw'), ('z JRSvj', 'w GOPsg'), ('BkmsjhVKzDihlkXgNtK', 'YhjpgeSHwAfeihUdKqH'), ('stNBHmWcbRUFlBNkCO', 'pqKYEjTzyORCiYKhZL'), ('CVlGWBM', 'ZSiDTYJ'), ('PeEKdkDoNV', 'MbBHahAlKS'), (' ZjhMUXMambCPKEWYoYP', ' WgeJRUJxjyZMHBTVlVM'), ('zKkmEkAL ZJqVfPIx', 'wHhjBhXI WGnScMFu'), ('uSCganMb', 'rPZdxkJy'), ('hCnQJ JIESjCVz', 'eZkNG GFBPgZSw'), ('LWlvXrU', 'ITisUoR'), ('CwyzC', 'ZtvwZ'), ('EWQhH', 'BTNeE'), ('LUrqzq', 'IRonwn'), ('WeIbGNethfMrGerxD', 'TbFyDKbqecJoDbouA'), ('wKo pKJHCiYfC i fMVl', 'tHl mHGEZfVcZ f cJSi'), ('sfYEDS', 'pcVBAP'), ('VKANodMkykvYynCdge', 'SHXKlaJhvhsVvkZadb'), ('qJyLfS', 'nGvIcP'), ('uidtSTMCIZQqeQgHa', 'rfaqPQJZFWNnbNdEx'), ('EVeTrXuoWmyn', 'BSbQoUrlTjvk'), ('DYASjulSedmPc', 'AVXPgriPbajMz'), ('SxwhRKMzioqhJSRB', 'PuteOHJwflneGPOY'), ('UoPMxRCtE', 'RlMJuOZqB'), ('DT uTfEEc CSAvxnqIDr', 'AQ rQcBBz ZPXsuknFAo'), ('f XmqJmcbF', 'c UjnGjzyC'), ('TbfIuFxeyDvJPwia', 'QycFrCubvAsGMtfx'), ('gqkhUD uKmuXa', 'dnheRA rHjrUx'), ('WcCt  ', 'TzZq  '), ('KtSxZomXWHsxMCCJ G', 'HqPuWljUTEpuJZZG D'), ('WQXgFjkhSGsQtbaiNHB', 'TNUdCghePDpNqyxfKEY'), ('yTMEVqrqMUNLWcELzc', 'vQJBSnonJRKITzBIwz'), ('yDIIVSnRYEmv', 'vAFFSPkOVBjs'), ('nsAOZRtczNM', 'kpXLWOqzwKJ'), ('OwcLVSAZo', 'LtzISPXWl'), ('BsXLTnWpslH', 'YpUIQkTmpiE'), ('UalpwIvnZAo', 'RximtFskWXl'), ('ybDTOrPT', 'vyAQLoMQ'), ('iPoXeIZDU', 'fMlUbFWAR'), ('IYvGmgpxZbxWz', 'FVsDjdmuWyuTw'), ('pbOqqZVBKGGSOLnt', 'myLnnWSYHDDPLIkq'), (' rWVivYNOZPMkSvNEDrG', ' oTSfsVKLWMJhPsKBAoD'), ('ZNCanSyGkwnegzqMlQ', 'WKZxkPvDhtkbdwnJiN'), ('kzUAPgbCmOsuTpfXC', 'hwRXMdyZjLprQmcUZ'), ('GliVpM', 'DifSmJ'), ('CgNNFJiNHQjUzLRazFF ', 'ZdKKCGfKENgRwIOxwCC '), ('ogquPKCZjmj', 'ldnrMHZWgjg'), ('zXaEQOYhbj izaWwd', 'wUxBNLVeyg fwxTta'), ('OBIyCSucVJ', 'LYFvZPrzSG'), ('xYlJURiWnDcYAL', 'uViGROfTkAzVXI'), ('uvYMCEhxBJq a', 'rsVJZBeuYGn x'), ('mBVkpLuQI', 'jYShmIrNF'), ('aIyjPqFTqfUGtywIyNn', 'xFvgMnCQncRDqvtFvKk'), ('GqPHohgSgf', 'DnMEledPdc'), ('pbQAzjxGOOZqAtf ', 'myNXwguDLLWnXqc '), ('yivqnpMvtI', 'vfsnkmJsqF'), ('UTWKMSqxWgFtGz P E', 'RQTHJPnuTdCqDw M B'), ('cBCzKarNBPwXCfmi', 'zYZwHxoKYMtUZcjf'), ('bCZzMhU', 'yZWwJeR'), ('mjuBORafV', 'jgrYLOxcS'), ('uBECXR', 'rYBZUO'), ('SYcLWnUfq smgFbCL', 'PVzITkRcn pjdCyZI'), ('FKGNAYDMIRdrNX', 'CHDKXVAJFOaoKU'), ('XoxQPPX', 'UluNMMU'), ('uLmpmiRWggcHsdze', 'rIjmjfOTddzEpawb'), ('effRalr', 'bccOxio'), ('QiRKQbOmFgkumCeqJR', 'NfOHNyLjCdhrjZbnGO'), ('IsnhPPAwLcabjQ', 'FpkeMMXtIzxygN'), ('IIEtf OThkFnFS', 'FFBqc LQehCkCP'), ('yxOQGG', 'vuLNDD'), ('bPbfcYY', 'yMyczVV'), ('LZssCyCq', 'IWppZvZn'), ('gpbgr', 'dmydo'), ('ybPzZ', 'vyMwW'), ('CHntqCblEDB', 'ZEkqnZyiBAY'), ('BekVTknCUE', 'YbhSQhkZRB'), ('asctPGTWCPAnQEilgun', 'xpzqMDQTZMXkNBfidrk'), ('gRVVHlu', 'dOSSEir'), ('CElQNyXwlfno', 'ZBiNKvUtickl'), ('pvaSTLmk', 'msxPQIjh'), ('prWeAANx LHM', 'moTbXXKu IEJ'), ('uJvnBEyyyznHuRDboh', 'rGskYBvvvwkErOAyle'), ('sQSkmLGlgO', 'pNPhjIDidL'), ('sePWlUDXLHjrWQX', 'pbMTiRAUIEgoTNU'), ('OEhXt', 'LBeUq'), ('OJCetJITUieTPYwxvcj', 'LGZbqGFQRfbQMVtuszg'), ('CFvIgAAElJUQsLjzvTmu', 'ZCsFdXXBiGRNpIgwsQjr'), ('mLAklzTRddgfQBznPJo', 'jIXhiwQOaadcNYwkMGl'), ('MoWYmxxyGA xlr', 'JlTVjuuvDX uio'), ('lxQZG HaxcXeS', 'iuNWD ExuzUbP'), ('pZmHRRHo y', 'mWjEOOEl v'), ('ebJboOhQfsmgRILQxzC', 'byGylLeNcpjdOFINuwZ'), ('lUbhqOaio', 'iRyenLxfl'), ('DfckGxasTMOEMnu', 'AczhDuxpQJLBJkr'), ('eNxDSjVMpq', 'bKuAPgSJmn'), ('YDOIJlIZYRK', 'VALFGiFWVOH'), ('DqrphUIHPQqY', 'AnomeRFEMNnV'), ('ghWtWiJ', 'deTqTfG'), ('OAwjTQCAIqwUj', 'LXtgQNZXFntRg'), ('gErNXBHtX', 'dBoKUYEqU'), ('EULko', 'BRIhl'), ('gQYkFAkXiwuwIxswoDJr', 'dNVhCXhUftrtFuptlAGo'), ('BnrXaudBQPifNatRL', 'YkoUxraYNMfcKxqOI'), ('hguhMJyQr', 'edreJGvNo'), ('FpdVvpjSSlthH', 'CmaSsmgPPiqeE'), ('QPvvxB', 'NMssuY'), ('BmuoSImEVK', 'YjrlPFjBSH'), ('yaUZa', 'vxRWx'), ('TMUAObtrh', 'QJRXLyqoe'), ('QlVnpMUvRHJBses', 'NiSkmJRsOEGYpbp'), ('GcmeRxgEAYFPvyr rQ', 'DzjbOudBXVCMsvo oN'), ('takBjlhPHXwVKxTA ', 'qxhYgieMEUtSHuQX '), ('iDtG JGpkcqiYxaJQ', 'fAqD GDmhznfVuxGN'), ('jobCBUStfXOj', 'glyZYRPqcULg'), ('upjVjqhVlfbWwjcu kV', 'rmgSgneSicyTtgzr hS'), ('DIquBtdVhfWSuIgEdgfv', 'AFnrYqaSecTPrFdBadcs'), ('ucynOq', 'rzvkLn'), ('pcAPrmqJNSoXzl', 'mzXMojnGKPlUwi'), ('fbTJKJEPv', 'cyQGHGBMs'), ('GEK enB', 'DBH bkY'), ('XhUkrFKrCf', 'UeRhoCHoZc'), ('dfgyFD', 'acdvCA'), ('jegMZVLysy', 'gbdJWSIvpv'), ('KnhecIkdnyRK', 'HkebzFhakvOH'), ('eGVoBhSKZE', 'bDSlYePHWB'), ('CpxoZRxuGqoSDq', 'ZmulWOurDnlPAn'), ('gcWymKLTWg', 'dzTvjHIQTd'), ('ntXBKllCXSobo d', 'kqUYHiiZUPlyl a'), ('jKhKYntLSzPYqZ', 'gHeHVkqIPwMVnW'), ('evtZf', 'bsqWc'), ('NvaiP', 'KsxfM'), ('BTdlLbOBGcAeQ', 'YQaiIyLYDzXbN'), ('pZwlqjEue', 'mWtingBrb'), ('WcUaGaGLGxbLlTnIjX', 'TzRxDxDIDuyIiQkFgU'), ('mkklONFP', 'jhhiLKCM'), ('cZKwwmDfRIqbiDBDo', 'zWHttjAcOFnyfAYAl'), ('OolPUd', 'LliMRa'), ('BTSzfUBRAcNGiEOX', 'YQPwcRYOXzKDfBLU'), ('NjSPtiXBOIjxwMuRH', 'KgPMqfUYLFgutJrOE'), ('fsnsfVsa', 'cpkpcSpx'), ('vpWgL', 'smTdI'), ('G wlLItyKVjLtegBcU', 'D tiIFqvHSgIqbdYzR'), ('mWzBIEcnqKKUzy', 'jTwYFBzknHHRwv'), ('dlgOAKr', 'aidLXHo'), (' bGOdeHEKk', ' yDLabEBHh'), ('kKuVfli', 'hHrScif'), ('wfzurxisE', 'tcwroufpB'), ('vhSHKcLgkiMzcrBU', 'sePEHzIdhfJwzoYR'), ('juMQRaiPn', 'grJNOxfMk'), ('zJKhIkMyGlwFjm gO', 'wGHeFhJvDitCgj dL'), ('pqBSUboYgfvkDWmzfN', 'mnYPRylVdcshATjwcK'), ('YmLvZlqLDhMNkSO', 'VjIsWinIAeJKhPL'), ('AOMZwtVvavZhh', 'XLJWtqSsxsWee'), ('hxWHUpO', 'euTERmL'), ('FjhVxIyxb kaxlckyIj', 'CgeSuFvuy hxuizhvFg'), ('rGuJEMmPFn', 'oDrGBJjMCk'), ('fiy GsLaBgwkeYAt', 'cfv DpIxYdthbVXq'), ('XkTUIRKRrn', 'UhQRFOHOok'), ('VGBYhLVT', 'SDYVeISQ'), ('kSbxZn', 'hPyuWk'), ('ARcrduSVUQCASghC', 'XOzoarPSRNZXPdeZ'), ('XsmXcdUKyEjLnvDvk', 'UpjUzaRHvBgIksAsh'), ('YUyRi', 'VRvOf'), ('mpPgbgFujTjs', 'jmMdydCrgQgp'), ('PVOVyXxFqKiJvCQwarV', 'MSLSvUuCnHfGsZNtxoS'), ('VeoPoRNKtaVjXCEz', 'SblMlOKHqxSgUZBw'), ('sHHCila', 'pEEZfix'), ('ETZJKQ', 'BQWGHN'), ('HbdJAoooVlauxsLi', 'EyaGXlllSixrupIf'), ('ZwqBPkkbhwOD', 'WtnYMhhyetLA'), ('lAyoJIOLwl', 'iXvlGFLIti'), ('PRbTSFeS', 'MOyQPCbP'), ('VOlmEmZY', 'SLijBjWV'), ('mIAvOh', 'jFXsLe'), ('rkRJIFdZEJFIxwsdRCtz', 'ohOGFCaWBGCFutpaOZqw'), ('qN NSAjGsbDsK', 'nK KPXgDpyApH'), ('vbIhPoTYSMUHKj', 'syFeMlQVPJREHg'), ('WfuswnFPthVrUrQZCWSM', 'TcrptkCMqeSoRoNWZTPJ'), ('LwHgHmuSizeDJw', 'ItEdEjrPfwbAGt'), ('sZIjT', 'pWFgQ'), (' uGBwTFXfwovDUGgoD S', ' rDYtQCUctlsARDdlA P'), ('moJhSRuBOaXgUNp', 'jlGePOrYLxUdRKm'), ('UDeDGxYSzTzzpH', 'RAbADuVPwQwwmE'), ('XlGleertMSfLY', 'UiDibboqJPcIV'), ('HGgUYKBQFLUtxfzAOMuc', 'EDdRVHYNCIRqucwXLJrz'), ('kwwtsgUPZjutzMKtHTp', 'httqpdRMWgrqwJHqEQm'), ('ueASfYEjKnZLOVUyBSQ', 'rbXPcVBgHkWILSRvYPN'), ('RIUVBxIrvCctxdKNH', 'OFRSYuFosZzquaHKE'), ('olDadLpCYAVprChdHa', 'liAxaImZVXSmoZeaEx'), ('QviTBeKugUlXbdj', 'NsfQYbHrdRiUyag'), ('qWifJOkW l', 'nTfcGLhT i'), ('dtGcisto', 'aqDzfpql'), ('ZsuvuvCCzf', 'WprsrsZZwc'), ('qcUasVfgpi', 'nzRxpScdmf'), ('iQtxIkVeLDTdXsJibfMf', 'fNquFhSbIAQaUpGfycJc'), ('gZZRJoIbKqWb', 'dWWOGlFyHnTy'), ('izAOWHCatohjNn', 'fwXLTEZxqlegKk'), ('nEiEEUScuuljnHlv', 'kBfBBRPzrrigkEis'), ('PqCygrJxLPtrE', 'MnZvdoGuIMqoB'), ('zvQfbYUTDNumB', 'wsNcyVRQAKrjY'), ('ARFydIphFP', 'XOCvaFmeCM'), ('jyECkRZLpmwYSndjOAI', 'gvBZhOWImjtVPkagLXF'), ('xicJpInXzLJx', 'ufzGmFkUwIGu'), ('bXhiU ', 'yUefR '), ('oVuWEjCykitMHlidswu', 'lSrTBgZvhfqJEifaptr'), (' EMoNi', ' BJlKf'), ('jjo VoAEszPFNUTpIGrT', 'ggl SlXBpwMCKRQmFDoQ'), ('OriFuhjhLWD', 'LofCregeITA'), ('fgwxuU', 'cdturR'), ('IEJJCvK', 'FBGGZsH'), ('lFlEnxGvo', 'iCiBkuDsl'), ('lAtWrnKiHw xxaDJtQ', 'iXqTokHfEt uuxAGqN'), ('ixcirAivJQhBnLeKOi', 'fuzfoXfsGNeYkIbHLf'), ('AcifQcqiImAxBvobnt', 'XzfcNznfFjXuYslykq'), ('lCFeQTfsCtWsKspfSBF', 'iZCbNQcpZqTpHpmcPYC'), ('QmFaQQKfFJBtgPmocc', 'NjCxNNHcCGYqdMjlzz'), ('ZrgLdvdmlBbI', 'WodIasajiYyF'), ('ELVnYjYmwiS', 'BISkVgVjtfP'), ('ALVOAaPVPlhej', 'XISLXxMSMiebg'), ('KpgzbVXmMjLIJ', 'HmdwySUjJgIFG'), ('aYFWzGzjVN', 'xVCTwDwgSK'), ('vNFCeayqufrBp', 'sKCZbxvnrcoYm'), ('RZPRIn', 'OWMOFk'), ('qVxYrvWWB ', 'nSuVosTTY '), ('haUltZMLHZ', 'exRiqWJIEW'), ('zvyGiFAiUzcY', 'wsvDfCXfRwzV'), ('eTTRBAiC a', 'bQQOYXfZ x'), ('o cWxEakAJETfsrVM', 'l zTuBxhXGBQcpoSJ'), ('NIvxhfGNSe', 'KFsuecDKPb'), ('dhkUzESpk', 'aehRwBPmh'), ('sISYYzvZ', 'pFPVVwsW'), ('sKPJzYHdpPJ', 'pHMGwVEamMG'), ('eXgEpLHlMqvOdFiWvg', 'bUdBmIEiJnsLaCfTsd'), ('pXpThZPWpZQEIgmYJi', 'mUmQeWMTmWNBFdjVGf'), ('DkSnTVycWIhD', 'AhPkQSvzTFeA'), ('prhjFjnShVw', 'moegCgkPeSt'), ('DPjowiptGnwndFw', 'AMgltfmqDktkaCt'), ('tbCegpAJXY', 'qyZbdmXGUV'), ('pdAdxSWZIMJJigz', 'maXauPTWFJGGfdw'), (' kCboTCp', ' hZylQZm'), ('XA WIm', 'UX TFj'), ('OYTpdWjKrOYiHF HERH', 'LVQmaTgHoLVfEC EBOE'), ('Xjdgwu', 'Ugadtr'), ('PiaEHgWXthyb', 'MfxBEdTUqevy'), ('CVwLAUsUk hRDnR', 'ZStIXRpRh eOAkO'), ('fEKuahNiCSM', 'cBHrxeKfZPJ'), ('fsFNQoBSnoY CbnOlZ', 'cpCKNlYPklV ZykLiW'), ('JHaSrJyomZeqY', 'GExPoGvljWbnV'), ('RMmwAerqddpeOlE', 'OJjtXbonaambLiB'), ('ZLnI dPUCwU', 'WIkF aMRZtR'), ('cFZPRpVoqFAQl', 'zCWMOmSlnCXNi'), ('txmVyzqVfaMKo', 'qujSvwnScxJHl'), ('pClJIfoQyeGn I', 'mZiGFclNvbDk F'), ('cMAcUXhTnhvrXY', 'zJXzRUeQkesoUV'), ('kvHSUokqZP', 'hsEPRlhnWM'), ('maFjKb', 'jxCgHy'), ('sxqKnrYnirNoRlAfyp', 'punHkoVkfoKlOiXcvm'), ('udkZqmMGAIbAiy YCP', 'rahWnjJDXFyXfv VZM'), ('zbo DsYsdvhl', 'wyl ApVpasei'), ('xyVzIkIDM', 'uvSwFhFAJ'), ('MvMVIbYgQSVaCYq', 'JsJSFyVdNPSxZVn'), ('yRMdJXug', 'vOJaGUrd'), ('gwdA XoWc pePSXBWXTT', 'dtaX UlTz mbMPUYTUQQ'), ('zPzHshLAibs gsVzkMdA', 'wMwEpeIXfyp dpSwhJaX'), ('CXMpY jWm', 'ZUJmV gTj'), ('XrcPwOCIbSXpgID', 'UozMtLZFyPUmdFA'), ('smzZJosxSJhWOQYGNpZ', 'pjwWGlpuPGeTLNVDKmW'), ('ApWtxM', 'XmTquJ'), ('LAUsgfZHQLnHgZJLfCte', 'IXRpdcWENIkEdWGIcZqb'), ('acnHwLYcOG', 'xzkEtIVzLD'), ('qzxUIjNSigNRIOO', 'nwuRFgKPfdKOFLL'), ('DferKeEJD', 'AcboHbBGA'), ('XKMNgEasFey', 'UHJKdBxpCbv'), ('IFMKCkUxbcEs', 'FCJHZhRuyzBp'), ('GhEbIV FKPoNo', 'DeByFS CHMlKl'), ('vWEGybJAyATSSiHvRdY', 'sTBDvyGXvXQPPfEsOaV'), ('wOPTjmfpx', 'tLMQgjcmu'), ('kVALHb', 'hSXIEy'), ('gMNAwMetslvb', 'dJKXtJbqpisy'), ('BlXrnnmJSKBaFDcca', 'YiUokkjGPHYxCAzzx'), ('yrlLitUfWKUIPQnDsG', 'voiIfqRcTHRFMNkApD'), ('ynJkJDqXk', 'vkGhGAnUh'), ('lQWiihxDhg', 'iNTffeuAed'), ('YlNQkKQsq', 'ViKNhHNpn'), ('EaSvKVf YFq', 'BxPsHSc VCn'), ('zQrBJwWiFFjB', 'wNoYGtTfCCgY'), ('vgkYZGOKvrKAKmQANW', 'sdhVWDLHsoHXHjNXKT'), ('jyAXDvAVgmwm', 'gvXUAsXSdjtj'), ('bmjVioTDS', 'yjgSflQAP'), ('aZvEWHAUBfR', 'xWsBTEXRYcO'), ('YayCWPy', 'VxvZTMv'), ('RFcyoZdkhPelvoyt', 'OCzvlWaheMbislvq'), ('nvAneMBRBVlAOCZFSPp', 'ksXkbJYOYSiXLZWCPMm'), ('oeciz', 'lbzfw'), ('Rjptp', 'Ogmqm'), ('ttjLFVVC', 'qqgICSSZ'), ('icLOLDQWEPDTgoxzW', 'fzILIANTBMAQdluwT'), ('hIMTYXFNUndoIELEm', 'eFJQVUCKRkalFBIBj'), ('quqlN', 'nrniK'), ('lYBknsvl IAjg xHAmw', 'iVYhkpsi FXgd uEXjt'), ('PdwwW', 'MattT'), ('Z ZlWW', 'W WiTT'), ('MsEZOATDWPEGC', 'JpBWLXQATMBDZ'), ('BkFAhRzyx', 'YhCXeOwvu'), ('JITSZj', 'GFQPWg'), ('MLovlSZz', 'JIlsiPWw'), ('pFGsfh', 'mCDpce'), ('pnbBd Y', 'mkyYa V'), ('CAJYwFNvCIMp', 'ZXGVtCKsZFJm'), ('sGVeWbHH', 'pDSbTyEE'), ('qdYNuuErcHlxIDhfBd', 'naVKrrBozEiuFAecYa'), ('ZnJfXVGTTkBCAfKWeCRH', 'WkGcUSDQQhYZXcHTbZOE'), ('RWoiUxNopLtTZmFnxN', 'OTlfRuKlmIqQWjCkuK'), ('VsdRjWlc', 'SpaOgTiz'), ('HHXFsHh', 'EEUCpEe'), ('GMyhUhVzoKOdX', 'DJveReSwlHLaU'), ('NdwFOqRZKqs', 'KatCLnOWHnp'), ('ZYAxUrgVTyjxdMql', 'WVXuRodSQvguaJni'), ('dxVzARmnkqOTyKfZmTYV', 'auSwXOjkhnLQvHcWjQVS'), ('JYmfPCiB', 'GVjcMZfY'), ('WK Bz', 'TH Yw'), ('ZqKRQMsxjKOb', 'WnHONJpugHLy'), ('JPUljmXnkpqlthp', 'GMRigjUkhmniqem'), ('fpoGQg', 'cmlDNd'), ('wUE ZyzdLNrA', 'tRB WvwaIKoX'), ('VyFXSuOCVaWcdDgxGn', 'SvCUPrLZSxTzaAduDk'), ('qiyxjlOkHxpWhLLo', 'nfvugiLhEumTeIIl'), ('MTQDQIEfiHnjZib', 'JQNANFBcfEkgWfy'), (' gtYbncn', ' dqVykzk'), ('dYtPRoQWANWIbsrEP', 'aVqMOlNTXKTFypoBM'), ('TuzXjSLpbPd', 'QrwUgPImyMa'), ('ZoyufltujpPKsCw', 'WlvrciqrgmMHpZt'), ('NRlsD', 'KOipA'), ('NHTSJGbGGb ', 'KEQPGDyDDy '), ('IKzblZhkAceexRJabuH', 'FHwyiWehXzbbuOGxyrE'), ('JToCDxeBEQt', 'GQlZAubYBNq'), ('MbQpq', 'JyNmn'), ('jIghpN', 'gFdemK'), ('RsomIDPzaETSR', 'OpljFAMwxBQPO'), ('AaOKw', 'XxLHt'), ('awonfMLNMKxn', 'xtlkcJIKJHuk'), ('lQjyEV PqatPLJBb', 'iNgvBS MnxqMIGYy'), ('VeAxThUFKSR', 'SbXuQeRCHPO'), ('C aLyEmDbVuBpxPPay', 'Z xIvBjAySrYmuMMxv'), ('wnHCdhabYiNxDteiAO', 'tkEZaexyVfKuAqbfXL'), ('PTjqAqkc', 'MQgnXnhz'), ('frJZGrZ', 'coGWDoW'), ('aE BKuEOQHCzs', 'xB YHrBLNEZwp'), ('YVnbxGE', 'VSkyuDB'), ('OKkzVnFDdttOaNPWDPq', 'LHhwSkCAaqqLxKMTAMn'), ('PWaXZmgqwZI APi', 'MTxUWjdntWF XMf'), ('lbboGNHspzBgiK', 'iyylDKEpmwYdfH'), ('RVQARCtPQ', 'OSNXOZqMN'), ('oQiUbZ', 'lNfRyW'), (' GlHOhcwsRo', ' DiELeztpOl'), ('E sfyO', 'B pcvL'), ('swmMkbwrQi', 'ptjJhytoNf'), ('KOaJeCY cnpeZDAfGl', 'HLxGbZV zkmbWAXcDi'), ('bQCBwSUHSSZx L', 'yNZYtPREPPWu I'), ('SCJwcJPTYthm', 'PZGtzGMQVqej'), ('CrpCWaVJPzSIlBHuy', 'ZomZTxSGMwPFiYErv'), ('wphqP', 'tmenM'), ('NQcSenqWPfgNVCj', 'KNzPbknTMcdKSZg'), ('ryhgYrugvNUGpZwyZPe', 'ovedVordsKRDmWtvWMb'), ('iDzRWLxqNgTF', 'fAwOTIunKdQC'), ('tIfKDatOD', 'qFcHAxqLA'), ('HEauFQgTlUvdfPs', 'EBxrCNdQiRsacMp'), ('KEgwkLwxSCBISCrzDc', 'HBdthItuPZYFPZowAz'), ('QSfRz FJRMlWZlkOv', 'NPcOw CGOJiTWihLs'), ('MKDqtXSNgO LyAMti', 'JHAnqUPKdL IvXJqf'), ('B XdGfYwbt TkpGah', 'Y UaDcVtyq QhmDxe'), ('kXIaWNtkVQSIEqwd', 'hUFxTKqhSNPFBnta'), ('neFBBcNZ', 'kbCYYzKW'), ('tWTjs', 'qTQgp'), ('gugwqBnP', 'drdtnYkM'), ('SMLFDord', 'PJICAloa'), ('eSSIQPpDhbg', 'bPPFNMmAeyd'), ('qfcJAehJ tdazaGjs', 'nczGXbeG qaxwxDgp'), ('bYrXxOqk', 'yVoUuLnh'), ('Hcfa  xmfn', 'Ezcx  ujck'), ('nTkhR', 'kQheO'), ('ExBqq', 'BuYnn'), ('qKIIP', 'nHFFM'), ('DfRfJwnrTokVvwtmxf', 'AcOcGtkoQlhSstqjuc'), ('ASGDEwbOcOQva', 'XPDABtyLzLNsx'), ('KDNPoKfwaahTtzTm', 'HAKMlHctxxeQqwQj'), ('KgM jXfWWDW', 'HdJ gUcTTAT'), ('yOjIe f fuTGq', 'vLgFb c crQDn'), ('SGWXzzbmcvYRKH', 'PDTUwwyjzsVOHE'), ('odYdJUVzbn bYwK', 'laVaGRSwyk yVtH'), ('XbRJtrkypWbTVMuw', 'UyOGqohvmTyQSJrt'), (' vqeTADXylNBe', ' snbQXAUviKYb'), ('mAzyBYu', 'jXwvYVr'), ('gjKaxhjTKQ', 'dgHxuegQHN'), ('eoIZlNxytOaT', 'blFWiKuvqLxQ'), ('hmqczbx', 'ejnzwyu'), ('OkXZoesvl', 'LhUWlbpsi'), ('VOlRSplLQy', 'SLiOPmiINv'), ('IJXvD', 'FGUsA'), ('gkOCpxW', 'dhLZmuT'), (' IJNhAkv Xgx', ' FGKeXhs Udu'), ('EGkTV', 'BDhQS'), ('fOyHUfQ zadBnfxL', 'cLvERcN wxaYkcuI'), ('SuLfOxpUYYvFZ Q', 'PrIcLumRVVsCW N'), ('DECdDntOw CXmKhfnMZ', 'ABZaAkqLt ZUjHeckJW'), ('rLjteMAAJwuNgWofftKb', 'oIgqbJXXGtrKdTlccqHy'), ('UvkhnsodSBXVbCIerb', 'RshekplaPYUSyZFboy'), ('deWHSUkfv', 'abTEPRhcs'), ('zXXrBCdHbrPI', 'wUUoYZaEyoMF'), ('tYtWuAjDItooMSNCk', 'qVqTrXgAFqllJPKZh'), ('CyTGxHd', 'ZvQDuEa'), ('XqESzhvbsxpXtoSdTMR', 'UnBPwesypumUqlPaQJO'), ('jPRwAVQJA', 'gMOtXSNGX'), ('jziJqBelkNDcGXiyG', 'gwfGnYbihKAzDUfvD'), ('lRXnn CSlJHQO', 'iOUkk ZPiGENL'), ('BYGkJ', 'YVDhG'), ('KVfxFKnpysRnhYOYBicK', 'HScuCHkmvpOkeVLVYfzH'), ('HkkoYWK', 'EhhlVTH'), ('rSQrKKZdm IFLGlA', 'oPNoHHWaj FCIDiX'), ('uidoWWMDLflASFki', 'rfalTTJAIciXPChf'), ('bTDT issmI', 'yQAQ fppjF'), ('KxBQVapPHfvYkdO', 'HuYNSxmMEcsVhaL'), ('bHqjHeysPJlDtOI', 'yEngEbvpMGiAqLF'), ('JRjkJSSWbIBFbZL p', 'GOghGPPTyFYCyWI m'), ('jjvTYPSKQZ FpfdqdVA', 'ggsQVMPHNW CmcanaSX'), ('gUexNG', 'dRbuKD'), ('XENnwkpnS', 'UBKkthmkP'), ('MKWeTx', 'JHTbQu'), ('kQGPAhvLXJYUbm P', 'hNDMXesIUGVRyj M'), ('EuyYdlPJyVbaoEiDbaKC', 'BrvVaiMGvSyxlBfAyxHZ'), ('EXhqzSD', 'BUenwPA'), ('LrhsoNmeqpdHdXV x', 'IoeplKjbnmaEaUS u'), ('kHLRasIqrDixGkgwFxx', 'hEIOxpFnoAfuDhdtCuu'), ('geBjhACOjEcllNVkzGy', 'dbYgeXZLgBziiKShwDv'), ('dsIZfSvuUBLYNFkBLPN', 'apFWcPsrRYIVKChYIMK'), ('fmzoaJoVVbBpb', 'cjwlxGlSSyYmy'), ('tGEhWRtrBcFTurXR', 'qDBeTOqoYzCQroUO'), ('HjCKtIUZuhjEuBgC', 'EgZHqFRWregBrYdZ'), ('dNGCqYqeCFcqxNbdB', 'aKDZnVnbZCznuKyaY'), ('ACJwlU EcTjwVnT', 'XZGtiR BzQgtSkQ'), ('eYTcGL', 'bVQzDI'), ('sdjUzd', 'pagRwa'), ('BZdrtNrK', 'YWaoqKoH'), ('pddVEg', 'maaSBd'), ('AsUoAkLpsQdsEPGAsVxK', 'XpRlXhImpNapBMDXpSuH'), ('XTfcWeqZCEThqliM', 'UQczTbnWZBQenifJ'), ('bGsvlLxEvAYSx', 'yDpsiIuBsXVPu'), ('xVfBFSbDduMP', 'uScYCPyAarJM'), ('odMQGKSSmTOnIOzZAt', 'laJNDHPPjQLkFLwWXq'), ('UsxBrLFIJHKbQszeDEM', 'RpuYoICFGEHyNpwbABJ'), ('UvdeGLkOXFMHcJvkjI', 'RsabDIhLUCJEzGshgF'), ('zCYXd HAlaHjuiBFph', 'wZVUa EXixEgrfYCme'), ('rauiGxDhy', 'oxrfDuAev'), ('ueUvdjcTUvEPlZrwvzIq', 'rbRsagzQRsBMiWotswFn'), ('JCcJqpTXch', 'GZzGnmQUze'), ('gmAtaetbeIJ', 'djXqxbqybFG'), ('DRkrcAFiFHITyFod', 'AOhozXCfCEFQvCla'), ('iqNKRN', 'fnKHOK'), ('QosAgL', 'NlpXdI'), ('GBnjigcnhRIvksWVjTa', 'DYkgfdzkeOFshpTSgQx'), ('NiaijBD', 'KfxfgYA'), ('KEdAjmGfdFfEgsM', 'HBaXgjDcaCcBdpJ'), ('srlkWpV', 'poihTmS'), ('gxOPB', 'duLMY'), ('ZNofvUOdel', 'WKlcsRLabi'), ('Cut JNrlH', 'Zrq GKoiE'), ('VIfTp', 'SFcQm'), ('LMZgdWzpZRYjYD', 'IJWdaTwmWOVgVA'), ('wSzaqMckbgmngZB', 'tPwxnJzhydjkdWY'), ('KLyHSLH', 'HIvEPIE'), ('RcMCTRYMgmhYFlwyZhe', 'OzJZQOVJdjeVCitvWeb'), ('bRfwg', 'yOctd'), ('VDmYjxrjexoawS', 'SAjVguogbulxtP'), ('mcjDktKiua', 'jzgAhqHfrx'), ('znaUJ', 'wkxRG'), ('avbMqNRQYnlYlukF', 'xsyJnKONVkiVirhC'), ('Y NMVJ OlHtlBoWQhGFQ', 'V KJSG LiEqiYlTNeDCN'), ('mrvoqIOWr', 'joslnFLTo'), ('mvfnekWJxyfiCPV', 'jsckbhTGuvcfZMS'), ('XJuOtf', 'UGrLqc'), ('oTdQNcX', 'lQaNKzU'), ('gIuouzelWpVuNSniM', 'dFrlrwbiTmSrKPkfJ'), ('AHtrSJvS', 'XEqoPGsP'), ('heUOCYFFFGTWra C', 'ebRLZVCCCDQTox Z'), ('lqpeLAdZ', 'inmbIXaW'), ('euwyjIWEy k', 'brtvgFTBv h'), ('nryTqBptvkQPuCh', 'kovQnYmqshNMrZe'), ('MLRTmoaPStdgVOVzJ', 'JIOQjlxMPqadSLSwG'), ('fACbgaaaw', 'cXZydxxxt'), ('nRyiHMXPHQvOuffWAsC', 'kOvfEJUMENsLrccTXpZ'), ('uhQYoGrfIcw', 'reNVlDocFzt'), ('ylgOHjjNbYXHyLf', 'vidLEggKyVUEvIc'), ('EZKKgZFxwWdD', 'BWHHdWCutTaA'), ('sJfVYBsWQDhK', 'pGcSVYpTNAeH'), ('KhtLDgqRUzc', 'HeqIAdnORwz'), (' oVFSNRf', ' lSCPKOc'), ('iePOR', 'fbMLO'), ('CvafHamgKNDFNE', 'ZsxcExjdHKACKB'), ('jBYVhm', 'gYVSej'), ('YJHas', 'VGExp'), ('xzxjkeolzZrftmubwc', 'uwughbliwWocqjrytz'), ('rjRIvubZQpXE bnCfkF', 'ogOFsryWNmUB ykZchC'), ('QbEpxZtiJY ', 'NyBmuWqfGV '), ('eLrlqnhhkdLJdyuPxTj', 'bIoinkeehaIGavrMuQg'), ('ucbtym', 'rzyqvj'), ('cHYLGdbszk', 'zEVIDaypwh'), ('STmxlqh wmzODHMqBD', 'PQjuine tjwLAEJnYA'), ('dcJoLl', 'azGlIi'), ('uXMSadMGmDrqsN', 'rUJPxaJDjAonpK'), ('BWMwUqZZSmWE', 'YTJtRnWWPjTB'), ('sjPtYozpTRE j', 'pgMqVlwmQOB g'), ('TrFQvV', 'QoCNsS'), ('YBjaCNMh', 'VYgxZKJe'), ('BGyPCc', 'YDvMZz'), ('qUkez', 'nRhbw'), ('zcNANIzEnoWRSY', 'wzKXKFwBklTOPV'), ('OiXshuiVRbXMUXwCy', 'LfUperfSOyUJRUtZv'), ('WwpfEvmqvCzAWZwPtMpZ', 'TtmcBsjnsZwXTWtMqJmW'), ('hTLwGncr', 'eQItDkzo'), ('OsmLPr', 'LpjIMo'), ('Yx NioPdSCPU', 'Vu KflMaPZMR'), ('LLcXEEgSbtvvapke', 'IIzUBBdPyqssxmhb'), ('IFeIMXpyv', 'FCbFJUmvs'), ('WwzojLBOTJ', 'TtwlgIYLQG'), ('lrNazZOyixnqFWDJOxm', 'ioKxwWLvfuknCTAGLuj'), ('boMufUCiQJ', 'ylJrcRZfNG'), ('OFNNSZZR', 'LCKKPWWO'), ('lL xORQmqK', 'iI uLONjnH'), ('IqodKWwaoZpshNFfF', 'FnlaHTtxlWmpeKCcC'), ('UlJPTeQrrbgmxCdmNtGM', 'RiGMQbNooydjuZajKqDJ'), ('jSnkQPfihVIEdv', 'gPkhNMcfeSFBas'), ('hGdTeWFGIwZGrBumcq', 'eDaQbTCDFtWDoYrjzn'), ('WTnFaT e', 'TQkCxQ b'), ('fcsLgcTdPJGbGIc', 'czpIdzQaMGDyDFz'), ('cWWTHAHfSp fdoMdIp', 'zTTQEXEcPm calJaFm'), ('TuPovFnohbWG', 'QrMlsCkleyTD'), ('lLOMxrqF', 'iILJuonC'), ('rdBbjiCSZJi', 'oaYygfZPWGf'), ('S iAnvFuvDu', 'P fXksCrsAr'), ('tBOBjMTRLwlsJkAYpE', 'qYLYgJQOItipGhXVmB'), ('FDOpBvcqUrFH k', 'CALmYsznRoCE h'), ('Qk RiQAYXaB', 'Nh OfNXVUxY'), ('OdQCGiE', 'LaNZDfB'), ('OkeRizEUYD', 'LhbOfwBRVA'), ('BGGezKgNZgeumsD', 'YDDbwHdKWdbrjpA'), ('WcHKQRLW', 'TzEHNOIT'), ('CHTAmnFfjxXLmLh IoX', 'ZEQXjkCcguUIjIe FlU'), ('dzSXuVFuDYYJDvb', 'awPUrSCrAVVGAsy'), ('kfhwFNXUDGCqqV', 'hcetCKURADZnnS'), ('feFPc', 'cbCMz'), ('naFRUWtHbEABrYHeKEWd', 'kxCORTqEyBXYoVEbHBTa'), ('TXqt gjDsXUMMS', 'QUnq dgApURJJP'), ('cqHc uT', 'znEz rQ'), ('nORGkCdJqaF', 'kLODhZaGnxC'), ('RvAtFtOap', 'OsXqCqLxm'), ('ShKaOrkqoPBYWUDLugQ', 'PeHxLohnlMYVTRAIrdN'), ('ehwdFIlXdw', 'betaCFiUat'), ('HCcG JvWmpwgulv', 'EZzD GsTjmtdris'), ('OpadMy', 'LmxaJv'), ('JoHbmoyRCNzpxwHMLOg', 'GlEyjlvOZKwmutEJILd'), ('mMqNxwluIubkfg', 'jJnKutirFryhcd'), ('DtjoSh FDbRIryBvtpd', 'AqglPe CAyOFovYsqma'), ('DOLCSZUYqfaXIaU', 'ALIZPWRVncxUFxR'), ('uDemvsY', 'rAbjspV'), ('LxCinrdMAKOXH', 'IuZfkoaJXHLUE'), ('hUeNrLrdimy', 'eRbKoIoafjv'), ('ecfAkNJ', 'bzcXhKG'), ('SZNVlqrijNDnBMnTmIe', 'PWKSinofgKAkYJkQjFb'), ('ZMtBAvYgENpKyQkULK', 'WJqYXsVdBKmHvNhRIH'), ('cmUDtivpUdBDxAB CCW', 'zjRAqfsmRaYAuXY ZZT'), ('vtNGsQYDERHAjFRBTK', 'sqKDpNVABOEXgCOYQH'), ('crFUoG', 'zoCRlD'), ('CrLRlSFYIE ZyO', 'ZoIOiPCVFB WvL'), ('iyV HBPRU', 'fvS EYMOR'), ('weQOGsH', 'tbNLDpE'), ('VxnQGEdSpaVFqTO', 'SukNDBaPmxSCnQL'), ('fmvCgsrKLGrSILKNCVs', 'cjsZdpoHIDoPFIHKZSp'), ('rtY O', 'oqV L'), ('nFhIUArANI', 'kCeFRXoXKF'), ('zRnWpbM HVloAsds', 'wOkTmyJ ESilXpap'), ('OTxNVwkj', 'LQuKSthg'), ('nhFCMmYerUzcOetPhM', 'keCZJjVboRwzLbqMeJ'), ('L zEW tnrlZx', 'I wBT qkoiWu'), ('PTrtfMw bRnKbF InDwE', 'MQoqcJt yOkHyC FkAtB'), ('XyqiD fyxtQsExBalri', 'UvnfA cvuqNpBuYxiof'), ('rNEaWN', 'oKBxTK'), ('QjpBeVKtxvN', 'NgmYbSHqusK'), ('RqfGpZI', 'OncDmWF'), ('kGNbGzrYupF', 'hDKyDwoVrmC'), ('ptdFwOipQuzP x', 'mqaCtLfmNrwM u'), ('Pb KFWbJajI', 'My HCTyGxgF'), ('SNBNkLTgM', 'PKYKhIQdJ'), ('cOSVaBwfGCKpgdQOQc', 'zLPSxYtcDZHmdaNLNz'), ('PKANPXmhJs', 'MHXKMUjeGp'), ('HdegdiZDrXguy', 'EabdafWAoUdrv'), ('OgZjsTWmyoSm', 'LdWgpQTjvlPj'), ('HUPhx', 'ERMeu'), ('BTfRjgqmwXRsCUYdndmb', 'YQcOgdnjtUOpZRVakajy'), ('irzxxgKSZH', 'fowuudHPWE'), ('HZBzFmxEZa', 'EWYwCjuBWx'), ('jFYzCO', 'gCVwZL'), ('gDEFOqnTQfGisrnQ', 'dABCLnkQNcDfpokN'), ('BWcxKshcRRCGfxyMVFi', 'YTzuHpezOOZDcuvJSCf'), (' DWMhuGWincrj', ' ATJerDTfkzog'), ('AvFfoh OP ncTMF', 'XsCcle LM kzQJC'), ('WCoUNqSmizob', 'TZlRKnPjfwly'), ('ULaGjEYMF', 'RIxDgBVJC'), ('rnvsQluk', 'okspNirh'), ('HlbGSCWPjYGFjkar', 'EiyDPZTMgVDCghxo'), ('YQcEZuzzSbLlpOA', 'VNzBWrwwPyIimLX'), ('vOOaTUZaGcFv', 'sLLxQRWxDzCs'), ('UJy GDE', 'RGv DAB'), ('idtOeZQDwtU', 'faqLbWNAtqR'), ('cQHSFnC', 'zNEPCkZ'), ('chaRKGPWvodrYC', 'zexOHDMTslaoVZ'), ('hFgfW as V', 'eCdcT xp S'), ('eEXwXINH agC', 'bBUtUFKE xdZ'), ('LpBElFq', 'ImYBiCn'), ('Ibkdea', 'Fyhabx'), ('UyNiYFYvSFJiOn', 'RvKfVCVsPCGfLk'), ('QnIrxpRjZREinEo', 'NkFoumOgWOBfkBl'), ('bWPGVgxaJ', 'yTMDSduxG'), ('IbZtXhao', 'FyWqUexl'), ('swLyoIVyaThWsm', 'ptIvlFSvxQeTpj'), ('jOzalmA', 'gLwxijX'), ('NN vothSwJ', 'KK slqePtG'), ('QTIKemkVRfsAJU', 'NQFHbjhSOcpXGR'), ('kOxEDCXSIBn', 'hLuBAZUPFYk'), ('InHaaj nAzcUzlNRaubo', 'FkExxg kXwzRwiKOxryl'), ('tZMeiFkazZsLnmPuqC', 'qWJbfChxwWpIkjMrnZ'), ('fNT sMvByMZEjbtYy', 'cKQ pJsYvJWBgyqVv'), ('ZzMCttXzUuMrTfYAg', 'WwJZqqUwRrJoQcVXd'), ('ggjhlGz', 'ddgeiDw'), ('GYvhyzagZLSqL', 'DVsevwxdWIPnI'), ('jSjPdPIEHrQYkCxhf', 'gPgMaMFBEoNVhZuec'), ('dzXVqQtsjVPeeHHo', 'awUSnNqpgSMbbEEl'), ('vgdNq', 'sdaKn'), ('ChnrCUtoKTmxWqahPz', 'ZekoZRqlHQjuTnxeMw'), ('jYvdRWEIY', 'gVsaOTBFV'), ('YmBTsdnEYEWJLgLTbkm', 'VjYQpakBVBTGIdIQyhj'), ('EZQzXetKSmoXsn', 'BWNwUbqHPjlUpk'), ('kIRvPHjJo', 'hFOsMEgGl'), ('nRSWakD', 'kOPTxhA'), ('mcrDPJMvAS', 'jzoAMGJsXP'), ('zvaBYTPQsBnw', 'wsxYVQMNpYkt'), ('zfTvtIqoUnK', 'wcQsqFnlRkH'), ('YqCimz', 'VnZfjw'), ('iqyHV', 'fnvES'), ('CiVYoIEaqBADDSZsNc', 'ZfSVlFBxnYXAAPWpKz'), ('GMsAWoOtglhKrGyTbAQ', 'DJpXTlLqdieHoDvQyXN'), ('Clnk F', 'Zikh C'), ('UWcKTWbsZX', 'RTzHQTypWU'), ('MuNhTbQmFlgmqyya', 'JrKeQyNjCidjnvvx'), ('DqXMUDwBobVVTD', 'AnUJRAtYlySSQA'), ('K cOiczxWhhqn', 'H zLfzwuTeenk'), ('DqSztzRGgioNuxL', 'AnPwqwODdflKruI'), ('rtrsrSqBogm ZphjquID', 'oqopoPnYldj WmegnrFA'), ('qIgjCcIQKO', 'nFdgZzFNHL'), ('FOdJwToBTxfaVnY', 'CLaGtQlYQucxSkV'), ('cRAfrAXjmgAIKDl', 'zOXcoXUgjdXFHAi'), ('GHrRVXSCaymNHGw', 'DEoOSUPZxvjKEDt'), ('GwCjDNydxtLWKd', 'DtZgAKvauqITHa'), ('nWwspbgZn', 'kTtpmydWk'), ('CQopUF', 'ZNlmRC'), ('qepCDYFKcwn', 'nbmZAVCHztk'), ('RGNkYF ', 'ODKhVC '), ('fuHlPIRzLMHUm', 'crEiMFOwIJERj'), ('wkgMLNGiqqkOuJlE', 'thdJIKDfnnhLrGiB'), ('gOwiFAI', 'dLtfCXF'), ('twW EZpbcszNa', 'qtT BWmyzpwKx'), ('CWCbfJpkLBfuyLBYSlm', 'ZTZycGmhIYcrvIYVPij'), ('XKHYMoTKmDityloQqR', 'UHEVJlQHjAfqvilNnO'), ('JYydIPepwlKUSbKWsYYA', 'GVvaFMbmtiHRPyHTpVVX'), ('rkVqymlOdGpekEPP', 'ohSnvjiLaDmbhBMM'), ('BkbfrtITxafiF', 'YhycoqFQuxcfC'), ('bkEK ZEvDaIcc', 'yhBH WBsAxFzz'), ('xldCUFxUYbUqqEsqDQ', 'uiaZRCuRVyRnnBpnAN'), ('KyqiWzqxSdl', 'HvnfTwnuPai'), ('OHuxalRnamvZONnUTSX', 'LEruxiOkxjsWLKkRQPU'), ('oDpzSwbJvNmU', 'lAmwPtyGsKjR'), ('mwrtjqQISSM  ', 'jtoqgnNFPPJ  '), ('skmgxJo', 'phjduGl'), ('vHRaA', 'sEOxX'), ('cGBLJBzAQjFXDdqb', 'zDYIGYwXNgCUAany'), ('IPTUCHoVxKfOA', 'FMQRZElSuHcLX'), ('DrTLkVFiBqOHSTwNDKz', 'AoQIhSCfYnLEPQtKAHw'), ('KIEgp s', 'HFBdm p'), ('TiZYNotPCwFLACNZ', 'QfWVKlqMZtCIXZKW'), ('nxJvJuuVWhlBRaj', 'kuGsGrrSTeiYOxg'), ('pugfbDQfybGkJUj', 'mrdcyANcvyDhGRg'), ('sWQmynL', 'pTNjvkI'), ('VrhuEFILo BOKaTMtry', 'SoerBCFIl YLHxQJqov'), ('gppPa bIwUJOfrVVgZtw', 'dmmMx yFtRGLcoSSdWqt'), ('gSUcEik', 'dPRzBfh'), ('CrgxN', 'ZoduK'), ('UbmVIwvOY TEQ', 'RyjSFtsLV QBN'), ('KaclDyaEQl', 'HxziAvxBNi'), ('QiSyQOsSyLjeaLuSQ', 'NfPvNLpPvIgbxIrPN'), ('HYpJxjfye', 'EVmGugcvb'), ('fRmZhpRXRGJ', 'cOjWemOUODG'), ('CPRDpydPOhkPmSZWR', 'ZMOAmvaMLehMjPWTO'), ('SnVUXGh RSTOs', 'PkSRUDe OPQLp'), ('qnAoDMeUnjcG', 'nkXlAJbRkgzD'), ('vTUJHAjiSkKNASiKS', 'sQRGEXgfPhHKXPfHP'), ('RUHvybuajHihm', 'OREsvyrxgEfej'), ('ZuTEZBsYOAsPNA', 'WrQBWYpVLXpMKX'), ('Y OWDcUoJP', 'V LTAzRlGM'), ('xRKiPGS', 'uOHfMDP'), ('jgtQdxTU', 'gdqNauQR'), ('jUsTw', 'gRpQt'), ('rWtrYFJfwUqpUVhUdsm', 'oTqoVCGctRnmRSeRapj'), ('BpDmjrWSxns', 'YmAjgoTPukp'), ('JjJtlfctS HxHGAKPtND', 'GgGqiczqP EuEDXHMqKA'), ('TyHqZ', 'QvEnW'), ('afmktehZrpVbH', 'xcjhqbeWomSyE'), ('zQVWyiRZQnMT SSFr', 'wNSTvfOWNkJQ PPCo'), ('SWhKpuabiSabdqOrkHv', 'PTeHmrxyfPxyanLohEs'), ('OYEEnwfL', 'LVBBktcI'), ('BHPPLEDVnD', 'YEMMIBASkA'), ('WrgrbNHWCscbOuGMRl', 'TodoyKETZpzyLrDJOi'), ('tVvxHGLEWvTguD', 'qSsuEDIBTsQdrA'), ('pcs kzB', 'mzp hwY'), ('DsyDWQEksWgj', 'ApvATNBhpTdg'), ('SGvfjEOFNwdm', 'PDscgBLCKtaj'), ('mdAKNtFs', 'jaXHKqCp'), ('FLUwpwOO', 'CIRtmtLL'), ('YKoGoITEemNxJgIpG', 'VHlDlFQBbjKuGdFmD'), ('oRlke', 'lOihb'), ('AUxRkWykV', 'XRuOhTvhS'), ('jjdjMvaKUGlVXI', 'ggagJsxHRDiSUF'), ('UpEgWWmqw ZcLJvJL', 'RmBdTTjnt WzIGsGI'), ('MEfyYWMfsqpYv', 'JBcvVTJcpnmVs'), ('xlQmzrIinWNg', 'uiNjwoFfkTKd'), ('RGlJM SO', 'ODiGJ PL'), ('uygRLGz', 'rvdOIDw'), ('wruhJUnDxH', 'toreGRkAuE'), ('kWHGtstw', 'hTEDqpqt')]\n"
     ]
    }
   ],
   "source": [
    "print (training_data)  "
   ]
  },
  {
   "cell_type": "code",
   "execution_count": 9,
   "id": "b9bdb7ab-339d-4651-a8de-dbc9f8931382",
   "metadata": {},
   "outputs": [],
   "source": [
    "# 3. Архитектура RNN\n",
    "class SimpleRNN(nn.Module):\n",
    "    def __init__(self, input_size, hidden_size, output_size):\n",
    "        super(SimpleRNN, self).__init__()  # экземпляр класса SimpleRNN (простая рекуррентная нейронная сеть)\n",
    "        self.hidden_size = hidden_size\n",
    "        self.rnn = nn.RNN(input_size, hidden_size, batch_first=True) # batch_first=True\n",
    "        self.linear = nn.Linear(hidden_size, output_size)\n",
    "\n",
    "    def forward(self, x):\n",
    "        # Инициализация скрытого состояния нулями\n",
    "        h0 = torch.zeros(1, x.size(0), self.hidden_size).to(x.device) # (num_layers * num_directions, batch, hidden_size)\n",
    "        out, _ = self.rnn(x, h0)\n",
    "        out = self.linear(out)\n",
    "        return out\n"
   ]
  },
  {
   "cell_type": "code",
   "execution_count": 10,
   "id": "5d7e8a0a-cf1c-4abb-8b67-d98dd5347da9",
   "metadata": {},
   "outputs": [
    {
     "name": "stdout",
     "output_type": "stream",
     "text": [
      "Epoch 1, Loss: 1.167912140114233\n",
      "Epoch 2, Loss: 0.013415912774391473\n",
      "Epoch 3, Loss: 0.003729408350540325\n",
      "Epoch 4, Loss: 0.0015783788770786487\n",
      "Epoch 5, Loss: 0.0007758239676477388\n",
      "Epoch 6, Loss: 0.0004099915699334815\n",
      "Epoch 7, Loss: 0.00022541512083262206\n",
      "Epoch 8, Loss: 0.00012683498687692917\n",
      "Epoch 9, Loss: 7.238545885047642e-05\n",
      "Epoch 10, Loss: 4.1691229367643244e-05\n"
     ]
    }
   ],
   "source": [
    "# Обучение\n",
    "input_size = vocab_size\n",
    "hidden_size = 150\n",
    "output_size = vocab_size # Определяет размер выходного слоя модели равным размеру словаря. \n",
    "# Для каждого символа во входной фразе модель будет предсказывать вероятность для каждого символа в алфавите\n",
    "model = SimpleRNN(input_size, hidden_size, output_size)\n",
    "\n",
    "criterion = nn.CrossEntropyLoss() # Определяет функцию потерь\n",
    "optimizer = optim.Adam(model.parameters(), lr=0.001)\n",
    "\n",
    "def train(model, training_data, optimizer, criterion, epochs=10):\n",
    "    model.train()\n",
    "    for epoch in range(epochs):\n",
    "        epoch_loss = 0\n",
    "        for encrypted_phrase, original_phrase in training_data:\n",
    "            # Преобразование в тензоры\n",
    "            input_tensor = phrase_to_tensor(encrypted_phrase).unsqueeze(0) # Добавляем размерность батча\n",
    "            target_tensor = torch.tensor([char_to_index[char] for char in original_phrase]) # Преобразует оригинальную фразу в тензор, \n",
    "            # содержащий индексы символов\n",
    "\n",
    "            # Прямой проход\n",
    "            output = model(input_tensor)\n",
    " # output будет содержать предсказанные вероятности для каждого символа в каждой позиции       \n",
    "            # Вычисление потерь\n",
    "            loss = criterion(output.squeeze(0), target_tensor) # Убираем размерность батча\n",
    "\n",
    "            # Обратное распространение и оптимизация\n",
    "            optimizer.zero_grad()  # oбнуляем градиенты параметров модели\n",
    "            loss.backward()  # вычисляем градиенты функции потерь по отношению к параметрам модели\n",
    "            optimizer.step() # Обновляем параметры модели\n",
    "\n",
    "            epoch_loss += loss.item() # добавляем текущую потерю к общей потере за эпоху\n",
    "\n",
    "        print(f'Epoch {epoch+1}, Loss: {epoch_loss/len(training_data)}') # выводиv среднюю потерю за эпоху\n",
    "\n",
    "train(model, training_data, optimizer, criterion)"
   ]
  },
  {
   "cell_type": "code",
   "execution_count": 11,
   "id": "16081d29-fd83-4b5f-b047-40d03aa96b05",
   "metadata": {},
   "outputs": [
    {
     "name": "stdout",
     "output_type": "stream",
     "text": [
      "Encrypted: Khoor iluvw wdvn\n",
      "Decrypted: Hello first task\n"
     ]
    }
   ],
   "source": [
    "# Проверка качества (пример)\n",
    "def decrypt(model, encrypted_phrase):\n",
    "    model.eval()\n",
    "    with torch.no_grad():\n",
    "        input_tensor = phrase_to_tensor(encrypted_phrase).unsqueeze(0)\n",
    "        output = model(input_tensor) # (1, seq_len, vocab_size)\n",
    "        predicted_indices = torch.argmax(output, dim=2).squeeze(0)  # (seq_len)\n",
    "        decrypted_phrase = ''.join([index_to_char[index.item()] for index in predicted_indices]) # Corrected\n",
    "    return decrypted_phrase\n",
    "\n",
    "# Пример использования\n",
    "test_phrase = \"Khoor iluvw wdvn\"\n",
    "decrypted_phrase = decrypt(model, test_phrase)\n",
    "print(f\"Encrypted: {test_phrase}\")\n",
    "print(f\"Decrypted: {decrypted_phrase}\")"
   ]
  }
 ],
 "metadata": {
  "kernelspec": {
   "display_name": "Python 3 (ipykernel)",
   "language": "python",
   "name": "python3"
  },
  "language_info": {
   "codemirror_mode": {
    "name": "ipython",
    "version": 3
   },
   "file_extension": ".py",
   "mimetype": "text/x-python",
   "name": "python",
   "nbconvert_exporter": "python",
   "pygments_lexer": "ipython3",
   "version": "3.12.3"
  }
 },
 "nbformat": 4,
 "nbformat_minor": 5
}
